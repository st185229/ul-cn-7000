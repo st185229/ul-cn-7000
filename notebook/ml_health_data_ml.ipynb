{
 "cells": [
  {
   "cell_type": "code",
   "execution_count": 1,
   "metadata": {
    "gather": {
     "logged": 1742567579313
    }
   },
   "outputs": [
    {
     "name": "stdout",
     "output_type": "stream",
     "text": [
      "Name: azure-ai-ml\n",
      "Version: 1.26.0\n",
      "Summary: Microsoft Azure Machine Learning Client Library for Python\n",
      "Home-page: https://github.com/Azure/azure-sdk-for-python\n",
      "Author: Microsoft Corporation\n",
      "Author-email: azuresdkengsysadmins@microsoft.com\n",
      "License: MIT License\n",
      "Location: /anaconda/envs/azureml_py38/lib/python3.10/site-packages\n",
      "Requires: azure-common, azure-core, azure-mgmt-core, azure-monitor-opentelemetry, azure-storage-blob, azure-storage-file-datalake, azure-storage-file-share, colorama, isodate, jsonschema, marshmallow, msrest, pydash, pyjwt, pyyaml, strictyaml, tqdm, typing-extensions\n",
      "Required-by: \n",
      "Note: you may need to restart the kernel to use updated packages.\n"
     ]
    }
   ],
   "source": [
    "pip show azure-ai-ml"
   ]
  },
  {
   "cell_type": "markdown",
   "metadata": {
    "nteract": {
     "transient": {
      "deleting": false
     }
    }
   },
   "source": [
    "Connect to your workspace\n",
    "With the required SDK packages installed, now you're ready to connect to your workspace.\n",
    "\n",
    "To connect to a workspace, we need identifier parameters - a subscription ID, resource group name, and workspace name. Since you're working with a compute instance, managed by Azure Machine Learning, you can use the default values to connect to the workspace."
   ]
  },
  {
   "cell_type": "code",
   "execution_count": 2,
   "metadata": {
    "gather": {
     "logged": 1742567585218
    }
   },
   "outputs": [],
   "source": [
    "from azure.identity import DefaultAzureCredential, InteractiveBrowserCredential\n",
    "from azure.ai.ml import MLClient\n",
    "\n",
    "try:\n",
    "    credential = DefaultAzureCredential()\n",
    "    # Check if given credential can get token successfully.\n",
    "    credential.get_token(\"https://management.azure.com/.default\")\n",
    "except Exception as ex:\n",
    "    # Fall back to InteractiveBrowserCredential in case DefaultAzureCredential not work\n",
    "    credential = InteractiveBrowserCredential()"
   ]
  },
  {
   "cell_type": "code",
   "execution_count": 3,
   "metadata": {
    "gather": {
     "logged": 1742567587389
    }
   },
   "outputs": [
    {
     "name": "stderr",
     "output_type": "stream",
     "text": [
      "Found the config file in: /config.json\n"
     ]
    }
   ],
   "source": [
    "\n",
    "# Get a handle to workspace\n",
    "ml_client = MLClient.from_config(credential=credential)"
   ]
  },
  {
   "cell_type": "markdown",
   "metadata": {
    "nteract": {
     "transient": {
      "deleting": false
     }
    }
   },
   "source": [
    "Use the Python SDK to train a model\n",
    "To train a model, you'll first create the diabetes_training.py script in the src folder. The script uses the diabetes.csv file in the same folder as the training data."
   ]
  },
  {
   "cell_type": "markdown",
   "metadata": {
    "nteract": {
     "transient": {
      "deleting": false
     }
    }
   },
   "source": [
    "## Creating a Linear regression model python file"
   ]
  },
  {
   "cell_type": "code",
   "execution_count": 4,
   "metadata": {
    "gather": {
     "logged": 1741648549657
    }
   },
   "outputs": [
    {
     "name": "stdout",
     "output_type": "stream",
     "text": [
      "Overwriting src/expenses-training-linear-regression.py\n"
     ]
    }
   ],
   "source": [
    "%%writefile src/expenses-training-linear-regression.py\n",
    "\n",
    "# import libraries\n",
    "import pandas as pd\n",
    "import numpy as np\n",
    "from sklearn.model_selection import train_test_split\n",
    "from sklearn.linear_model import LogisticRegression\n",
    "from sklearn.metrics import roc_auc_score\n",
    "from sklearn.metrics import roc_curve\n",
    "from sklearn.linear_model import LinearRegression\n",
    "from sklearn.metrics import mean_squared_error\n",
    "\n",
    "\n",
    "# load the diabetes dataset\n",
    "print(\"Loading Data...\")\n",
    "expenses = pd.read_csv('azureml://subscriptions/56fbbfce-6dab-4d62-af16-ccd107f4d9d3/resourcegroups/DEV-EA-EASTUS-DF-RG/workspaces/mlw-uel-cn-7000/datastores/ds_healthdata_2/paths/data/ons_nhs_expenditure.csv')\n",
    "\n",
    "print(expenses)\n",
    "\n",
    "# separate features and labels\n",
    "X, y = expenses[['Year']].values, expenses['Total_current_healthcare_expenditure'].values\n",
    "\n",
    "# set regularization hyperparameter\n",
    "reg = 0.01\n",
    "\n",
    "# split data into training set and test set\n",
    "X_train, X_test, y_train, y_test = train_test_split(X, y, test_size=0.30, random_state=0)\n",
    "\n",
    "# train a linear regression model\n",
    "print('Training a linear regression model with regularization rate of', reg)\n",
    "model = LinearRegression().fit(X_train, y_train)\n",
    "\n",
    "# calculate accuracy\n",
    "y_hat = model.predict(X_test)\n",
    "acc = model.score(X_test, y_test)\n",
    "print('R^2 Score:', acc)\n",
    "\n",
    "# calculate AUC (not applicable for regression, but you can calculate RMSE or MAE)\n",
    "from sklearn.metrics import mean_squared_error\n",
    "rmse = np.sqrt(mean_squared_error(y_test, y_hat))\n",
    "print('RMSE:', rmse)\n",
    "\n",
    "#  continuous labels to discrete classes, you can use the following approach, Classification\n",
    "\n"
   ]
  },
  {
   "cell_type": "markdown",
   "metadata": {
    "nteract": {
     "transient": {
      "deleting": false
     }
    }
   },
   "source": [
    "## Creating a logistic regression model python file"
   ]
  },
  {
   "cell_type": "code",
   "execution_count": 5,
   "metadata": {},
   "outputs": [
    {
     "name": "stdout",
     "output_type": "stream",
     "text": [
      "Overwriting src/expenses-training-LogisticRegression-classification.py\n"
     ]
    }
   ],
   "source": [
    "%%writefile src/expenses-training-LogisticRegression-classification.py\n",
    "\n",
    "# import libraries\n",
    "import pandas as pd\n",
    "import numpy as np\n",
    "from sklearn.model_selection import train_test_split\n",
    "from sklearn.linear_model import LogisticRegression\n",
    "from sklearn.metrics import roc_auc_score\n",
    "from sklearn.metrics import roc_curve\n",
    "from sklearn.linear_model import LinearRegression\n",
    "from sklearn.metrics import mean_squared_error\n",
    "\n",
    "\n",
    "# load the diabetes dataset\n",
    "print(\"Loading Data...\")\n",
    "expenses = pd.read_csv('azureml://subscriptions/56fbbfce-6dab-4d62-af16-ccd107f4d9d3/resourcegroups/DEV-EA-EASTUS-DF-RG/workspaces/mlw-uel-cn-7000/datastores/ds_healthdata_2/paths/data/ons_nhs_expenditure.csv')\n",
    "\n",
    "print(expenses)\n",
    "\n",
    "# separate features and labels\n",
    "X = expenses[['Year']].values\n",
    "y = pd.cut(expenses['Total_current_healthcare_expenditure'], bins=3, labels=[0, 1, 2])\n",
    "\n",
    "# set regularization hyperparameter\n",
    "reg = 0.01\n",
    "\n",
    "# split data into training set and test set with stratification\n",
    "X_train, X_test, y_train, y_test = train_test_split(X, y, test_size=0.30, random_state=0, stratify=y)\n",
    "\n",
    "# train a logistic regression model\n",
    "print('Training a logistic regression model with regularization rate of', reg)\n",
    "model = LogisticRegression(C=1/reg, solver=\"liblinear\").fit(X_train, y_train)\n",
    "\n",
    "# calculate accuracy\n",
    "y_hat = model.predict(X_test)\n",
    "acc = np.average(y_hat == y_test)\n",
    "print('Accuracy:', acc)\n",
    "\n",
    "# calculate AUC\n",
    "y_scores = model.predict_proba(X_test)\n",
    "auc = roc_auc_score(y_test, y_scores, multi_class='ovr', labels=[0, 1, 2])\n",
    "print('AUC: ' + str(auc))\n"
   ]
  },
  {
   "cell_type": "markdown",
   "metadata": {
    "nteract": {
     "transient": {
      "deleting": false
     }
    }
   },
   "source": [
    "Run the cell below to submit the job that trains a classification model to predict diabetes."
   ]
  },
  {
   "cell_type": "markdown",
   "metadata": {
    "nteract": {
     "transient": {
      "deleting": false
     }
    }
   },
   "source": [
    "## Classification Modeling Run using Logistic regression"
   ]
  },
  {
   "cell_type": "code",
   "execution_count": 6,
   "metadata": {
    "gather": {
     "logged": 1742567592260
    }
   },
   "outputs": [
    {
     "name": "stderr",
     "output_type": "stream",
     "text": [
      "Environment version is set. Attempting to register desired version. To auto-version, reset version to None.\n",
      "Class AutoDeleteSettingSchema: This is an experimental class, and may change at any time. Please see https://aka.ms/azuremlexperimental for more information.\n",
      "Class AutoDeleteConditionSchema: This is an experimental class, and may change at any time. Please see https://aka.ms/azuremlexperimental for more information.\n",
      "Class BaseAutoDeleteSettingSchema: This is an experimental class, and may change at any time. Please see https://aka.ms/azuremlexperimental for more information.\n",
      "Class IntellectualPropertySchema: This is an experimental class, and may change at any time. Please see https://aka.ms/azuremlexperimental for more information.\n",
      "Class ProtectionLevelSchema: This is an experimental class, and may change at any time. Please see https://aka.ms/azuremlexperimental for more information.\n",
      "Class BaseIntellectualPropertySchema: This is an experimental class, and may change at any time. Please see https://aka.ms/azuremlexperimental for more information.\n"
     ]
    },
    {
     "name": "stdout",
     "output_type": "stream",
     "text": [
      "Monitor your job at https://ml.azure.com/runs/happy_star_31d7kdr556?wsid=/subscriptions/56fbbfce-6dab-4d62-af16-ccd107f4d9d3/resourcegroups/dev-ea-eastus-df-rg/workspaces/mlw-uel-cn-7000&tid=9258a771-d6bc-4486-adea-e939c450d791\n"
     ]
    }
   ],
   "source": [
    "from azure.ai.ml import MLClient, command, Input\n",
    "from azureml.core import Workspace, Environment\n",
    "from azure.identity import DefaultAzureCredential\n",
    "import fsspec\n",
    "from azureml.core import Workspace\n",
    "\n",
    "from azureml.core.conda_dependencies import CondaDependencies\n",
    "\n",
    "# Load the workspace from the saved config file\n",
    "ws = Workspace.from_config()\n",
    "\n",
    "# Retrieve the existing curated environment\n",
    "curated_env = Environment.get(workspace=ws, name=\"AzureML-sklearn-0.24-ubuntu18.04-py37-cpu\")\n",
    "\n",
    "# Create a copy of the curated environment\n",
    "env = curated_env.clone(\"my-custom-sklearn-env\")\n",
    "\n",
    "\n",
    "\n",
    "# Create a CondaDependencies object if it doesn't exist\n",
    "if env.python.conda_dependencies is None:\n",
    "    env.python.conda_dependencies = CondaDependencies()\n",
    "\n",
    "# Add fsspec to the environment\n",
    "env.python.conda_dependencies.add_pip_package(\"fsspec\")\n",
    "\n",
    "# Set the name and version on the environment object\n",
    "env.name = \"my-custom-sklearn-env\"\n",
    "env.version = \"1\"\n",
    "\n",
    "# Register the updated environment with a version\n",
    "env.register(workspace=ws)\n",
    "\n",
    "# configure job\n",
    "job = command(\n",
    "    code=\"./src\",\n",
    "    command=\"python expenses-training-LogisticRegression-classification.py\",\n",
    "    environment=\"my-custom-sklearn-env:1\",\n",
    "    compute=\"amlclcn7000\",\n",
    "    display_name=\"expense-pythonv2-train-log_reg\",\n",
    "    experiment_name=\"expense-training-log-reg\"\n",
    ")\n",
    "\n",
    "# submit job\n",
    "returned_job = ml_client.create_or_update(job)\n",
    "aml_url = returned_job.studio_url\n",
    "print(\"Monitor your job at\", aml_url)"
   ]
  },
  {
   "cell_type": "markdown",
   "metadata": {
    "nteract": {
     "transient": {
      "deleting": false
     }
    }
   },
   "source": [
    "## Linear regression"
   ]
  },
  {
   "cell_type": "code",
   "execution_count": 7,
   "metadata": {
    "gather": {
     "logged": 1742567593556
    }
   },
   "outputs": [
    {
     "name": "stdout",
     "output_type": "stream",
     "text": [
      "Monitor your job at https://ml.azure.com/runs/jovial_fork_d08mtwz2dy?wsid=/subscriptions/56fbbfce-6dab-4d62-af16-ccd107f4d9d3/resourcegroups/dev-ea-eastus-df-rg/workspaces/mlw-uel-cn-7000&tid=9258a771-d6bc-4486-adea-e939c450d791\n"
     ]
    }
   ],
   "source": [
    "# configure job\n",
    "job = command(\n",
    "    code=\"./src\",\n",
    "    command=\"python expenses-training-linear-regression.py\",\n",
    "    environment=\"my-custom-sklearn-env:1\",\n",
    "    compute=\"amlclcn7000\",\n",
    "    display_name=\"expense-pythonv2-train-lin-reg\",\n",
    "    experiment_name=\"expense-training-lin-reg\"\n",
    ")\n",
    "\n",
    "# submit job\n",
    "returned_job = ml_client.create_or_update(job)\n",
    "aml_url = returned_job.studio_url\n",
    "print(\"Monitor your job at\", aml_url)"
   ]
  }
 ],
 "metadata": {
  "kernel_info": {
   "name": "python38-azureml"
  },
  "kernelspec": {
   "display_name": "Python 3.8 - AzureML",
   "language": "python",
   "name": "python38-azureml"
  },
  "language_info": {
   "codemirror_mode": {
    "name": "ipython",
    "version": 3
   },
   "file_extension": ".py",
   "mimetype": "text/x-python",
   "name": "python",
   "nbconvert_exporter": "python",
   "pygments_lexer": "ipython3",
   "version": "3.10.11"
  },
  "microsoft": {
   "host": {
    "AzureML": {
     "notebookHasBeenCompleted": true
    }
   },
   "ms_spell_check": {
    "ms_spell_check_language": "en"
   }
  },
  "nteract": {
   "version": "nteract-front-end@1.0.0"
  }
 },
 "nbformat": 4,
 "nbformat_minor": 4
}
